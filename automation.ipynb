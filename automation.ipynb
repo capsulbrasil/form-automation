{
 "cells": [
  {
   "cell_type": "markdown",
   "metadata": {},
   "source": [
    "### lib imports"
   ]
  },
  {
   "cell_type": "code",
   "execution_count": null,
   "metadata": {},
   "outputs": [],
   "source": [
    "import time\n",
    "import pandas as pd\n",
    "from selenium import webdriver\n",
    "from selenium.webdriver.common.by import By\n",
    "from selenium.webdriver.firefox.service import Service\n",
    "from webdriver_manager.firefox import GeckoDriverManager"
   ]
  },
  {
   "cell_type": "markdown",
   "metadata": {},
   "source": [
    "### integrating drivers"
   ]
  },
  {
   "cell_type": "code",
   "execution_count": null,
   "metadata": {},
   "outputs": [],
   "source": [
    "driver = webdriver.Firefox()\n",
    "service = Service(GeckoDriverManager().install()) #running on GeckoDriver (Firefox)\n",
    "driver.get('https://renopele.fun/api/') # web page on which selenium will operate"
   ]
  },
  {
   "cell_type": "markdown",
   "metadata": {},
   "source": [
    "### opening file"
   ]
  },
  {
   "cell_type": "code",
   "execution_count": null,
   "metadata": {},
   "outputs": [],
   "source": [
    "df = pd.read_excel('data/test.xlsx') # <- CSV data here\n",
    "df # Display"
   ]
  },
  {
   "cell_type": "markdown",
   "metadata": {},
   "source": [
    "### automation logic"
   ]
  },
  {
   "cell_type": "code",
   "execution_count": null,
   "metadata": {},
   "outputs": [],
   "source": [
    "\n",
    "for index, row in df.iterrows():\n",
    "    numero = str(row.iloc[0])  \n",
    "    email = row.iloc[1]        \n",
    "    # form input\n",
    "    driver.find_element('xpath', '//*[@id=\"form-field-email\"]').send_keys(email)\n",
    "    driver.find_element('xpath', '//*[@id=\"form-field-message\"]').send_keys(numero)\n",
    "    \n",
    "    time.sleep(1)  \n",
    "    # submit\n",
    "    xpath = \"//button[@class='elementor-button elementor-size-sm']/span/span[@class='elementor-button-text' and text()='Send']\"\n",
    "    button = driver.find_element(By.XPATH, xpath)\n",
    "    button.click()\n",
    "    \n",
    "    time.sleep(1)\n",
    "    # form cleaning\n",
    "    driver.find_element('xpath', '//*[@id=\"form-field-email\"]').clear()\n",
    "    driver.find_element('xpath', '//*[@id=\"form-field-message\"]').clear()\n",
    "    \n",
    "    time.sleep(1) "
   ]
  }
 ],
 "metadata": {
  "kernelspec": {
   "display_name": "Python 3",
   "language": "python",
   "name": "python3"
  },
  "language_info": {
   "codemirror_mode": {
    "name": "ipython",
    "version": 3
   },
   "file_extension": ".py",
   "mimetype": "text/x-python",
   "name": "python",
   "nbconvert_exporter": "python",
   "pygments_lexer": "ipython3",
   "version": "3.11.9"
  }
 },
 "nbformat": 4,
 "nbformat_minor": 2
}
